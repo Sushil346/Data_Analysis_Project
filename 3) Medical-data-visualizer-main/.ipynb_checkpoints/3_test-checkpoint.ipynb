{
 "cells": [
  {
   "cell_type": "code",
   "execution_count": 7,
   "id": "c3afb48d-e0a3-451f-ab27-2f442458f799",
   "metadata": {},
   "outputs": [],
   "source": [
    "# !pip install seaborn "
   ]
  },
  {
   "cell_type": "code",
   "execution_count": 8,
   "id": "1f3e66f4-13b6-4546-b785-7f531b8ff53f",
   "metadata": {},
   "outputs": [],
   "source": [
    "import pandas as pd\n",
    "import seaborn as sns\n",
    "import matplotlib.pyplot as plt\n",
    "import numpy as np"
   ]
  },
  {
   "cell_type": "code",
   "execution_count": null,
   "id": "954c4b7b-65a7-4e80-8fdf-1afc318d9baf",
   "metadata": {},
   "outputs": [],
   "source": [
    "df=pd.read_csv(m"
   ]
  }
 ],
 "metadata": {
  "kernelspec": {
   "display_name": "Python 3 (ipykernel)",
   "language": "python",
   "name": "python3"
  },
  "language_info": {
   "codemirror_mode": {
    "name": "ipython",
    "version": 3
   },
   "file_extension": ".py",
   "mimetype": "text/x-python",
   "name": "python",
   "nbconvert_exporter": "python",
   "pygments_lexer": "ipython3",
   "version": "3.12.3"
  }
 },
 "nbformat": 4,
 "nbformat_minor": 5
}
