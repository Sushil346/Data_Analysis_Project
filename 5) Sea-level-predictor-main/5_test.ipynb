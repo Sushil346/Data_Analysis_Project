{
 "cells": [
  {
   "cell_type": "code",
   "execution_count": 59,
   "id": "701b6812-d800-4384-a21f-a0479dd73a9f",
   "metadata": {},
   "outputs": [],
   "source": [
    "# !pip install scipy"
   ]
  },
  {
   "cell_type": "code",
   "execution_count": 60,
   "id": "f8108b34-74f3-4ce4-8595-1be5a840a0e9",
   "metadata": {},
   "outputs": [],
   "source": [
    "import pandas as pd\n",
    "import numpy as np\n",
    "import matplotlib.pyplot as plt\n",
    "from scipy.stats import linregress\n"
   ]
  },
  {
   "cell_type": "code",
   "execution_count": 61,
   "id": "73544881-c871-4eba-9ccf-ff5f4a2e0ece",
   "metadata": {},
   "outputs": [],
   "source": [
    "df = pd.read_csv(\"epa-sea-level.csv\", index_col=0)"
   ]
  },
  {
   "cell_type": "code",
   "execution_count": 62,
   "id": "60d7d8ea",
   "metadata": {},
   "outputs": [
    {
     "data": {
      "text/plain": [
       "<matplotlib.collections.PathCollection at 0x736f162bb6b0>"
      ]
     },
     "execution_count": 62,
     "metadata": {},
     "output_type": "execute_result"
    },
    {
     "data": {
      "image/png": "[encoded data removed]",
      "text/plain": [
       "<Figure size 640x480 with 1 Axes>"
      ]
     },
     "metadata": {},
     "output_type": "display_data"
    }
   ],
   "source": [
    "fig, ax = plt.subplots()\n",
    "ax.scatter(df.index, df['CSIRO Adjusted Sea Level'])"
   ]
  },
  {
   "cell_type": "code",
   "execution_count": 63,
   "id": "5138fd92",
   "metadata": {},
   "outputs": [],
   "source": [
    "## y = w*X + b ; w= slope, b= yintercept, X= data_input, Y= Actual data, y= predicted data\n",
    "\n",
    "calculated_df = linregress(df.index, df['CSIRO Adjusted Sea Level'])"
   ]
  },
  {
   "cell_type": "code",
   "execution_count": 66,
   "id": "83c10920",
   "metadata": {},
   "outputs": [],
   "source": [
    "x_value = np.concatenate([df.index, np.arange(2014,2051)])\n",
    "y_value = (calculated_df.slope * x_value) + calculated_df.intercept\n",
    "ax.plot(x_value,y_value,'r')\n",
    "plt.show()"
   ]
  },
  {
   "cell_type": "code",
   "execution_count": 67,
   "id": "22785d5a",
   "metadata": {},
   "outputs": [],
   "source": [
    "calc_recent = linregress(df.index[df.index >= 2000], df[df.index >= 2000]['CSIRO Adjusted Sea Level'])\n",
    "x_value2 = np.concatenate([df.index[df.index >= 2000], np.arange(2014, 2051)])\n",
    "y_value2 = (calc_recent.slope * x_value2) + calc_recent.intercept\n",
    "ax.plot(x_value2, y_value2, 'g')\n",
    "\n",
    "plt.show()"
   ]
  },
  {
   "cell_type": "code",
   "execution_count": 71,
   "id": "f7f29ac6",
   "metadata": {},
   "outputs": [
    {
     "data": {
      "text/plain": [
       "[[<matplotlib.axis.XTick at 0x736f16cdd8b0>,\n",
       "  <matplotlib.axis.XTick at 0x736f15f9d4f0>,\n",
       "  <matplotlib.axis.XTick at 0x736f160d2c60>,\n",
       "  <matplotlib.axis.XTick at 0x736f162a9970>,\n",
       "  <matplotlib.axis.XTick at 0x736f162abfb0>,\n",
       "  <matplotlib.axis.XTick at 0x736f162b08f0>,\n",
       "  <matplotlib.axis.XTick at 0x736f162b0b00>,\n",
       "  <matplotlib.axis.XTick at 0x736f162b2780>,\n",
       "  <matplotlib.axis.XTick at 0x736f162a8230>,\n",
       "  <matplotlib.axis.XTick at 0x736f14b97200>],\n",
       " Text(0.5, 1.0, 'Rise in Sea Level'),\n",
       " Text(0.5, 4.444444444444445, 'Year'),\n",
       " Text(4.444444444444452, 0.5, 'Sea Level (inches)')]"
      ]
     },
     "execution_count": 71,
     "metadata": {},
     "output_type": "execute_result"
    }
   ],
   "source": [
    " # Add labels and title\n",
    "ax.set(\n",
    "    xticks=list(range(1850,2100,25)),title=\"Rise in Sea Level\",\n",
    "    xlabel=\"Year\",ylabel=\"Sea Level (inches)\" \n",
    ")"
   ]
  },
  {
   "cell_type": "code",
   "execution_count": 73,
   "id": "796b0e3c",
   "metadata": {},
   "outputs": [
    {
     "data": {
      "text/plain": [
       "<Figure size 640x480 with 0 Axes>"
      ]
     },
     "metadata": {},
     "output_type": "display_data"
    }
   ],
   "source": [
    "plt.savefig('sea_level.png')\n"
   ]
  },
  {
   "cell_type": "code",
   "execution_count": null,
   "id": "0f8d4a90",
   "metadata": {},
   "outputs": [],
   "source": []
  }
 ],
 "metadata": {
  "kernelspec": {
   "display_name": "Python 3 (ipykernel)",
   "language": "python",
   "name": "python3"
  },
  "language_info": {
   "codemirror_mode": {
    "name": "ipython",
    "version": 3
   },
   "file_extension": ".py",
   "mimetype": "text/x-python",
   "name": "python",
   "nbconvert_exporter": "python",
   "pygments_lexer": "ipython3",
   "version": "3.12.3"
  }
 },
 "nbformat": 4,
 "nbformat_minor": 5
}
