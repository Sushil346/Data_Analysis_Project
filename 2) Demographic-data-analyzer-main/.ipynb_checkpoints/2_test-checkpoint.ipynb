{
 "cells": [
  {
   "cell_type": "code",
   "execution_count": null,
   "id": "32de2f5b-7afa-4c7d-bd0d-21b34edef163",
   "metadata": {},
   "outputs": [],
   "source": [
    "import pandas as pd\n",
    "import numpy as np"
   ]
  },
  {
   "cell_type": "code",
   "execution_count": 20,
   "id": "2ac3d154-d7d9-4a84-b2a0-73425b7fd1f5",
   "metadata": {},
   "outputs": [],
   "source": [
    "df = pd.read_csv(\"adult.data.csv\")"
   ]
  },
  {
   "cell_type": "code",
   "execution_count": 21,
   "id": "941da08c-d7ff-4c56-9f42-52a527664a1a",
   "metadata": {},
   "outputs": [
    {
     "data": {
      "text/plain": [
       "race\n",
       "White                 27816\n",
       "Black                  3124\n",
       "Asian-Pac-Islander     1039\n",
       "Amer-Indian-Eskimo      311\n",
       "Other                   271\n",
       "Name: count, dtype: int64"
      ]
     },
     "execution_count": 21,
     "metadata": {},
     "output_type": "execute_result"
    }
   ],
   "source": [
    "df['race'].value_counts()"
   ]
  },
  {
   "cell_type": "code",
   "execution_count": 22,
   "id": "dcfc5630-ebbc-4368-a61e-d950c7f4bb98",
   "metadata": {},
   "outputs": [
    {
     "data": {
      "text/plain": [
       "np.float64(39.43354749885268)"
      ]
     },
     "execution_count": 22,
     "metadata": {},
     "output_type": "execute_result"
    }
   ],
   "source": [
    "df[df['sex'] == 'Male']['age'] .mean()"
   ]
  },
  {
   "cell_type": "code",
   "execution_count": 23,
   "id": "7d81ed03-cb67-4c9e-977c-85a32214c0c6",
   "metadata": {},
   "outputs": [
    {
     "data": {
      "text/plain": [
       "np.float64(16.44605509658794)"
      ]
     },
     "execution_count": 23,
     "metadata": {},
     "output_type": "execute_result"
    }
   ],
   "source": [
    "( (df['education'] == 'Bachelors').sum() / df['education'].count() ) * 100"
   ]
  },
  {
   "cell_type": "code",
   "execution_count": 66,
   "id": "06316827-509f-4b40-82c9-da32effccb4e",
   "metadata": {},
   "outputs": [
    {
     "name": "stdout",
     "output_type": "stream",
     "text": [
      "3486\n",
      "7491\n",
      "46.535843011613935\n"
     ]
    }
   ],
   "source": [
    "adv_people_morethan50k = (( df['education'].isin(['Bachelors','Masters', 'Doctorate']) ) & (df['salary']=='>50K')).sum() \n",
    "print(adv_people_morethan50k) \n",
    "adv_people = ( df['education'].isin(['Bachelors','Masters','Doctorate'])).sum()\n",
    "print(adv_people)\n",
    "percentage = adv_people_morethan50k / adv_people * 100\n",
    "print(percentage)"
   ]
  },
  {
   "cell_type": "code",
   "execution_count": 68,
   "id": "c4729791-0684-4ecd-9889-ed4ecfbb5600",
   "metadata": {},
   "outputs": [
    {
     "name": "stdout",
     "output_type": "stream",
     "text": [
      "25070\n",
      "4355\n"
     ]
    }
   ],
   "source": [
    "nonadv_people = ( ~ df['education'].isin(['Bachelors','Masters','Doctorate']) )\n",
    "nonadv_people_count = nonadv_people.sum()\n",
    "print(nonadv_people_count)\n",
    "nonadv_people_morethan50k = (nonadv_people & (df['salary']=='>50K') ).sum()\n",
    "print(nonadv_people_morethan50k)\n",
    "\n",
    "percentage = nonadv_people_count = "
   ]
  },
  {
   "cell_type": "code",
   "execution_count": null,
   "id": "5587ab3c-65bc-4ee8-a2a1-4a3fb2a1e892",
   "metadata": {},
   "outputs": [],
   "source": []
  },
  {
   "cell_type": "code",
   "execution_count": null,
   "id": "80af874d-2f8b-4e2a-a219-70a01933ee0d",
   "metadata": {},
   "outputs": [],
   "source": []
  },
  {
   "cell_type": "code",
   "execution_count": null,
   "id": "9bd7c876-a6d8-4e78-9eae-49ccacfda51c",
   "metadata": {},
   "outputs": [],
   "source": []
  },
  {
   "cell_type": "code",
   "execution_count": null,
   "id": "e5e6410a-5569-4b7f-91b0-30c22f8ed4dc",
   "metadata": {},
   "outputs": [],
   "source": []
  }
 ],
 "metadata": {
  "kernelspec": {
   "display_name": "Python 3 (ipykernel)",
   "language": "python",
   "name": "python3"
  },
  "language_info": {
   "codemirror_mode": {
    "name": "ipython",
    "version": 3
   },
   "file_extension": ".py",
   "mimetype": "text/x-python",
   "name": "python",
   "nbconvert_exporter": "python",
   "pygments_lexer": "ipython3",
   "version": "3.12.3"
  }
 },
 "nbformat": 4,
 "nbformat_minor": 5
}
