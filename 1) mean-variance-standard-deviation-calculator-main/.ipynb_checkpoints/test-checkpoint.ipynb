{
 "cells": [
  {
   "cell_type": "code",
   "execution_count": 1,
   "id": "8c834103-fb59-4797-9a12-1d4aead8f566",
   "metadata": {},
   "outputs": [],
   "source": [
    "import numpy as np"
   ]
  },
  {
   "cell_type": "code",
   "execution_count": 13,
   "id": "800e0d09-04dc-49f9-9e0c-c5d6f33436da",
   "metadata": {},
   "outputs": [],
   "source": [
    "def calculate(list):\n",
    "       \n",
    "    matrix = np.array(list).reshape(-1,3)\n",
    "    allmean = [ np.mean(matrix, axis=0), np.mean(matrix, axis=1), np.mean(matrix) ]\n",
    "    allvar = [ np.var(matrix, axis=0), np.var(matrix, axis=1), np.var(matrix) ]\n",
    "    allstd = [ np.std(matrix, axis=0), np.std(matrix, axis=1), np.std(matrix) ]\n",
    "    allmax = [ np.max(matrix, axis=0), np.max(matrix, axis=1), np.max(matrix) ]\n",
    "    allmin = [ np.min(matrix, axis=0), np.min(matrix, axis=1), np.min(matrix) ]\n",
    "    allsum = [ np.sum(matrix, axis=0), np.sum(matrix, axis=1), np.sum(matrix) ]\n",
    "\n",
    "    calculations = {        \n",
    "        'mean' : allmean,\n",
    "        'variance' : allvar,\n",
    "        'Standard deviation' : allstd,\n",
    "        'max' : allmax,\n",
    "        'min' : allmin,\n",
    "        'sum' : allsum,\n",
    "     }\n",
    "\n",
    "    return calculations"
   ]
  }
 ],
 "metadata": {
  "kernelspec": {
   "display_name": "Python 3 (ipykernel)",
   "language": "python",
   "name": "python3"
  },
  "language_info": {
   "codemirror_mode": {
    "name": "ipython",
    "version": 3
   },
   "file_extension": ".py",
   "mimetype": "text/x-python",
   "name": "python",
   "nbconvert_exporter": "python",
   "pygments_lexer": "ipython3",
   "version": "3.12.3"
  }
 },
 "nbformat": 4,
 "nbformat_minor": 5
}
