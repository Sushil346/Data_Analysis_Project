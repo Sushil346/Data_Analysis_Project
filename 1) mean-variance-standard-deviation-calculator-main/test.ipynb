{
 "cells": [
  {
   "cell_type": "code",
   "execution_count": 1,
   "id": "8c834103-fb59-4797-9a12-1d4aead8f566",
   "metadata": {},
   "outputs": [],
   "source": [
    "import numpy as np"
   ]
  },
  {
   "cell_type": "code",
   "execution_count": 13,
   "id": "800e0d09-04dc-49f9-9e0c-c5d6f33436da",
   "metadata": {},
   "outputs": [],
   "source": [
    "def calculate(list):\n",
    "       \n",
    "    matrix = np.array(list).reshape(-1,3)\n",
    "    allmean = [ np.mean(matrix, axis=0), np.mean(matrix, axis=1), np.mean(matrix) ]\n",
    "    allvar = [ np.var(matrix, axis=0), np.var(matrix, axis=1), np.var(matrix) ]\n",
    "    allstd = [ np.std(matrix, axis=0), np.std(matrix, axis=1), np.std(matrix) ]\n",
    "    allmax = [ np.max(matrix, axis=0), np.max(matrix, axis=1), np.max(matrix) ]\n",
    "    allmin = [ np.min(matrix, axis=0), np.min(matrix, axis=1), np.min(matrix) ]\n",
    "    allsum = [ np.sum(matrix, axis=0), np.sum(matrix, axis=1), np.sum(matrix) ]\n",
    "\n",
    "    calculations = {        \n",
    "        'mean' : allmean,\n",
    "        'variance' : allvar,\n",
    "        'Standard deviation' : allstd,\n",
    "        'max' : allmax,\n",
    "        'min' : allmin,\n",
    "        'sum' : allsum,\n",
    "     }\n",
    "\n",
    "    return calculations"
   ]
  },
  {
   "cell_type": "code",
   "execution_count": 14,
   "id": "a72f82a8-d7be-4cdc-8f9b-7d5d14591f8b",
   "metadata": {},
   "outputs": [
    {
     "name": "stdout",
     "output_type": "stream",
     "text": [
      "{'mean': [array([3., 4., 5.]), array([1., 4., 7.]), np.float64(4.0)], 'variance': [array([6., 6., 6.]), array([0.66666667, 0.66666667, 0.66666667]), np.float64(6.666666666666667)], 'Standard deviation': [array([2.44948974, 2.44948974, 2.44948974]), array([0.81649658, 0.81649658, 0.81649658]), np.float64(2.581988897471611)], 'max': [array([6, 7, 8]), array([2, 5, 8]), np.int64(8)], 'min': [array([0, 1, 2]), array([0, 3, 6]), np.int64(0)], 'sum': [array([ 9, 12, 15]), array([ 3, 12, 21]), np.int64(36)]}\n"
     ]
    },
    {
     "name": "stderr",
     "output_type": "stream",
     "text": [
      "E\n",
      "======================================================================\n",
      "ERROR: /home/sushil/ (unittest.loader._FailedTest./home/sushil/)\n",
      "----------------------------------------------------------------------\n",
      "AttributeError: module 'test_module' has no attribute '/home/sushil/'\n",
      "\n",
      "----------------------------------------------------------------------\n",
      "Ran 1 test in 0.002s\n",
      "\n",
      "FAILED (errors=1)\n"
     ]
    },
    {
     "data": {
      "text/plain": [
       "<unittest.main.TestProgram at 0x791a2cd02150>"
      ]
     },
     "execution_count": 14,
     "metadata": {},
     "output_type": "execute_result"
    }
   ],
   "source": [
    "import mean_var_std\n",
    "from unittest import main\n",
    "\n",
    "print(mean_var_std.calculate([0,1,2,3,4,5,6,7,8]))\n",
    "\n",
    "# Run unit tests automatically\n",
    "main(module='test_module', exit=False)"
   ]
  },
  {
   "cell_type": "code",
   "execution_count": null,
   "id": "214fead5-0c5b-4044-bbf7-29da54d960a5",
   "metadata": {},
   "outputs": [],
   "source": []
  }
 ],
 "metadata": {
  "kernelspec": {
   "display_name": "Python 3 (ipykernel)",
   "language": "python",
   "name": "python3"
  },
  "language_info": {
   "codemirror_mode": {
    "name": "ipython",
    "version": 3
   },
   "file_extension": ".py",
   "mimetype": "text/x-python",
   "name": "python",
   "nbconvert_exporter": "python",
   "pygments_lexer": "ipython3",
   "version": "3.12.3"
  }
 },
 "nbformat": 4,
 "nbformat_minor": 5
}
